{
 "cells": [
  {
   "cell_type": "code",
   "execution_count": 5,
   "id": "9999234f",
   "metadata": {},
   "outputs": [
    {
     "name": "stdout",
     "output_type": "stream",
     "text": [
      "Исходя из расчета F_onewayResult(statistic=5.500053450812596, pvalue=0.010482206918698694), видим, что значение pvalue < 0.05, следовательно принимаем альтернативную гипотезу.\n",
      "Значение статистики T = 5.500053450812598 > критического значения 3.3851899614491687, следовательно отличие среднего роста всех спортсменов является статистически значимым!\n"
     ]
    }
   ],
   "source": [
    "# Провести дисперсионный анализ для определения того,\n",
    "# есть ли различия среднего роста среди взрослых футболистов,\n",
    "# хоккеистов и штангистов.\n",
    "# Даны значения роста в трех группах случайно выбранных спортсменов:\n",
    "# Футболисты: 173, 175, 180, 178, 177, 185, 183, 182.\n",
    "# Хоккеисты: 177, 179, 180, 188, 177, 172, 171, 184, 180.\n",
    "# Штангисты: 172, 173, 169, 177, 166, 180, 178, 177, 172, 166, 170.\n",
    "\n",
    "import numpy as np\n",
    "from scipy import stats\n",
    "import matplotlib.pyplot as plot\n",
    "\n",
    "fbl_data = np.array([173, 175, 180, 178, 177, 185, 183, 182])\n",
    "hck_data = np.array([177, 179, 180, 188, 177, 172, 171, 184, 180])\n",
    "wlf_data = np.array([172, 173, 169, 177, 166, 180, 178, 177, 172, 166, 170])\n",
    "all_data = np.concatenate([fbl_data, hck_data, wlf_data])\n",
    "\n",
    "alpha = 0.05\n",
    "\n",
    "n1 = len(fbl_data)\n",
    "n2 = len(hck_data)\n",
    "n3 = len(wlf_data)\n",
    "n = n1 + n2 + n3\n",
    "k = 3\n",
    "\n",
    "fbl_mean = fbl_data.mean() # Среднее по значениям роста футболистов\n",
    "hck_mean = hck_data.mean() # Среднее по значениям роста хоккеистов\n",
    "wlf_mean = wlf_data.mean() # Среднее по значениям роста штангистов\n",
    "all_mean = np.mean(all_data) # Среднее по значениям роста всех спортсменов\n",
    "\n",
    "S2_F = n1 * (fbl_mean - all_mean) ** 2 + n2 * (hck_mean - all_mean) ** 2 + n3 * (wlf_mean - all_mean) ** 2 # Сумма квадратов отклонений по группам спортсменов от общего среднего по всем спортсменам\n",
    "S2_OST = ((fbl_data - fbl_mean) ** 2).sum() + ((hck_data - hck_mean) ** 2).sum() + ((wlf_data - wlf_mean) ** 2).sum() # Остаточная сумма квадратов отклонений\n",
    "S2 = ((all_data - all_mean) ** 2).sum() # Сумма квадратов отклонений от общего среднего\n",
    "\n",
    "k1 = k - 1\n",
    "k2 = n - k\n",
    "\n",
    "sigma2_F = S2_F / k1 # Расчет факторной дисперсии\n",
    "sigma2_OST = S2_OST / k2 # Расчет остаточной дисперсии\n",
    "\n",
    "T = sigma2_F / sigma2_OST # Расчет значения статистики\n",
    "\n",
    "f = stats.f_oneway(fbl_data, hck_data, wlf_data)\n",
    "\n",
    "F_CRIT = stats.f.ppf(1 - alpha, k1, k2) # Расчет критического значения\n",
    "\n",
    "print(f'Исходя из расчета {f}, видим, что значение pvalue < {alpha}, следовательно принимаем альтернативную гипотезу.')\n",
    "\n",
    "print(f'Значение статистики T = {T} > критического значения {F_CRIT}, следовательно отличие среднего роста всех спортсменов является статистически значимым!')"
   ]
  }
 ],
 "metadata": {
  "kernelspec": {
   "display_name": "Python 3 (ipykernel)",
   "language": "python",
   "name": "python3"
  },
  "language_info": {
   "codemirror_mode": {
    "name": "ipython",
    "version": 3
   },
   "file_extension": ".py",
   "mimetype": "text/x-python",
   "name": "python",
   "nbconvert_exporter": "python",
   "pygments_lexer": "ipython3",
   "version": "3.9.13"
  }
 },
 "nbformat": 4,
 "nbformat_minor": 5
}
